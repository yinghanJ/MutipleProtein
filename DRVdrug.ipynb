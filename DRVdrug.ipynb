{
 "cells": [
  {
   "cell_type": "code",
   "execution_count": 79,
   "metadata": {},
   "outputs": [],
   "source": [
    "import pandas as pd\n",
    "import numpy as np\n",
    "import matplotlib.pyplot as plt\n",
    "import seaborn as sns\n",
    "import re\n",
    "import csv\n",
    "import scipy.stats as stats\n",
    "import math\n",
    "import os\n",
    "from pathlib import Path"
   ]
  },
  {
   "cell_type": "code",
   "execution_count": 80,
   "metadata": {},
   "outputs": [],
   "source": [
    "PI_data = pd.read_csv(\"https://hivdb.stanford.edu/download/GenoPhenoDatasets/PI_DataSet.txt\", sep=\"\\t\")"
   ]
  },
  {
   "cell_type": "code",
   "execution_count": 81,
   "metadata": {},
   "outputs": [
    {
     "name": "stdout",
     "output_type": "stream",
     "text": [
      "      DRV                                        CompMutList\n",
      "0     NaN                                   D30N, R57G, N88D\n",
      "1     NaN                       D30N, M46I, R57G, L63P, N88D\n",
      "2     NaN                       M46I, R57G, L63P, V82T, I84V\n",
      "3     NaN                 L10R, M46I, R57G, L63P, V82T, I84V\n",
      "4     NaN                 L10I, R57G, L63P, A71V, I84V, L90M\n",
      "...   ...                                                ...\n",
      "2390  9.0  L10I, I13IV, G16GE, V32I, L33F, N37S, M46L, K5...\n",
      "2391  NaN                             L10I, M46I, L76V, I84V\n",
      "2392  NaN  T12S, I15V, L19I, M36I, R41K, K45N, I50L, L63P...\n",
      "2393  1.5  I13V, K20T, E35N, M36I, N37E, I62V, L63P, K70R...\n",
      "2394  3.0  L10I, I13IV, L24F, L33F, E35D, M36I, N37ND, R4...\n",
      "\n",
      "[2395 rows x 2 columns]\n"
     ]
    }
   ],
   "source": [
    "#build a DRVdataset, only keep the SeqID,DRV,CompMutList\n",
    "DRVdataset = PI_data[[ 'DRV', 'CompMutList']]\n",
    "print(DRVdataset)"
   ]
  },
  {
   "cell_type": "code",
   "execution_count": 82,
   "metadata": {},
   "outputs": [
    {
     "name": "stdout",
     "output_type": "stream",
     "text": [
      "       DRV                                        CompMutList\n",
      "54     0.2                                               I32V\n",
      "55     0.3                                               V47I\n",
      "56     0.5                                               M76L\n",
      "57     0.5                                               I82V\n",
      "58     0.0                             I32V, V47I, M76L, I82V\n",
      "...    ...                                                ...\n",
      "2387  38.0  L10F, I13V, Q18QH, L19V, K20IV, E21D, L24I, V3...\n",
      "2388   3.0  L10I, I13V, N37ND, R41K, M46I, I47V, L63P, A71...\n",
      "2390   9.0  L10I, I13IV, G16GE, V32I, L33F, N37S, M46L, K5...\n",
      "2393   1.5  I13V, K20T, E35N, M36I, N37E, I62V, L63P, K70R...\n",
      "2394   3.0  L10I, I13IV, L24F, L33F, E35D, M36I, N37ND, R4...\n",
      "\n",
      "[1115 rows x 2 columns]\n"
     ]
    }
   ],
   "source": [
    "DRVdataset_na = DRVdataset.dropna()\n",
    "print(DRVdataset_na)"
   ]
  },
  {
   "cell_type": "code",
   "execution_count": 83,
   "metadata": {},
   "outputs": [
    {
     "name": "stdout",
     "output_type": "stream",
     "text": [
      "       DRV                                        CompMutList  Mutation_Count\n",
      "58     0.0                             I32V, V47I, M76L, I82V               4\n",
      "59     0.8                       L19I, R57K, L63S, I64V, E65D               5\n",
      "60     2.6  L10I, K14R, I15IV, E35D, M36I, R41K, M46L, I54...              19\n",
      "62     5.7  L10C, T12K, I13V, K20T, V32I, L33V, M36I, K43I...              18\n",
      "65     0.7               E35D, K43KR, R57G, L63P, V82VI, I93L               6\n",
      "...    ...                                                ...             ...\n",
      "2387  38.0  L10F, I13V, Q18QH, L19V, K20IV, E21D, L24I, V3...              23\n",
      "2388   3.0  L10I, I13V, N37ND, R41K, M46I, I47V, L63P, A71...              12\n",
      "2390   9.0  L10I, I13IV, G16GE, V32I, L33F, N37S, M46L, K5...              14\n",
      "2393   1.5  I13V, K20T, E35N, M36I, N37E, I62V, L63P, K70R...              12\n",
      "2394   3.0  L10I, I13IV, L24F, L33F, E35D, M36I, N37ND, R4...              20\n",
      "\n",
      "[1107 rows x 3 columns]\n"
     ]
    },
    {
     "name": "stderr",
     "output_type": "stream",
     "text": [
      "C:\\Users\\64242\\AppData\\Local\\Temp/ipykernel_19236/2910907618.py:5: SettingWithCopyWarning: \n",
      "A value is trying to be set on a copy of a slice from a DataFrame.\n",
      "Try using .loc[row_indexer,col_indexer] = value instead\n",
      "\n",
      "See the caveats in the documentation: https://pandas.pydata.org/pandas-docs/stable/user_guide/indexing.html#returning-a-view-versus-a-copy\n",
      "  DRVdataset_na['Mutation_Count'] = DRVdataset_na['CompMutList'].apply(count_mutations)\n"
     ]
    }
   ],
   "source": [
    "def count_mutations(comp_mut_list):\n",
    "    return len(comp_mut_list.split(','))\n",
    "\n",
    "# Apply this function to create a new column with the count of mutations\n",
    "DRVdataset_na['Mutation_Count'] = DRVdataset_na['CompMutList'].apply(count_mutations)\n",
    "\n",
    "# Filter the DataFrame to keep only rows with more than one mutation\n",
    "DRVdataset_multiple = DRVdataset_na[DRVdataset_na['Mutation_Count'] > 1]\n",
    "#DRVdataset_multiple = DRVdataset_multiple.drop(columns=['Mutation_Count'])\n",
    "print(DRVdataset_multiple)"
   ]
  },
  {
   "cell_type": "markdown",
   "metadata": {},
   "source": [
    "maybe also need show the distribution"
   ]
  },
  {
   "cell_type": "code",
   "execution_count": 84,
   "metadata": {},
   "outputs": [
    {
     "name": "stdout",
     "output_type": "stream",
     "text": [
      "Frequency of Multiple Mutation Number in DRVdataset:\n",
      "    Number of Mutations  Frequency\n",
      "0                     2         27\n",
      "1                     3         34\n",
      "2                     4         65\n",
      "3                     5         83\n",
      "4                     6         77\n",
      "5                     7         68\n",
      "6                     8         53\n",
      "7                     9         50\n",
      "8                    10         54\n",
      "9                    11         58\n",
      "10                   12         55\n",
      "11                   13         43\n",
      "12                   14         41\n",
      "13                   15         43\n",
      "14                   16         69\n",
      "15                   17         41\n",
      "16                   18         51\n",
      "17                   19         37\n",
      "18                   20         45\n",
      "19                   21         31\n",
      "20                   22         21\n",
      "21                   23         25\n",
      "22                   24         11\n",
      "23                   25         11\n",
      "24                   26          9\n",
      "25                   27          4\n",
      "26                   31          1\n"
     ]
    },
    {
     "name": "stderr",
     "output_type": "stream",
     "text": [
      "C:\\Users\\64242\\AppData\\Local\\Temp/ipykernel_19236/11638816.py:2: SettingWithCopyWarning: \n",
      "A value is trying to be set on a copy of a slice from a DataFrame.\n",
      "Try using .loc[row_indexer,col_indexer] = value instead\n",
      "\n",
      "See the caveats in the documentation: https://pandas.pydata.org/pandas-docs/stable/user_guide/indexing.html#returning-a-view-versus-a-copy\n",
      "  DRVdataset_multiple['Mutation_Number'] = DRVdataset_multiple['CompMutList'].apply(count_mutations)\n"
     ]
    },
    {
     "data": {
      "image/png": "[encoded data removed]",
      "text/plain": [
       "<Figure size 720x432 with 1 Axes>"
      ]
     },
     "metadata": {
      "needs_background": "light"
     },
     "output_type": "display_data"
    }
   ],
   "source": [
    "# Apply the function to create a new column for mutation counts\n",
    "DRVdataset_multiple['Mutation_Number'] = DRVdataset_multiple['CompMutList'].apply(count_mutations)\n",
    "DRVdataset_multiple_counts = DRVdataset_multiple.groupby('Mutation_Number').size()\n",
    "# Create a DataFrame to store the number of mutations and their corresponding frequencies\n",
    "DRVdataset_multiple_mutation_df = pd.DataFrame({\n",
    "     'Number of Mutations': DRVdataset_multiple_counts.index, \n",
    "     'Frequency': DRVdataset_multiple_counts.values\n",
    " })\n",
    "\n",
    "print(\"Frequency of Multiple Mutation Number in DRVdataset:\")\n",
    "print(DRVdataset_multiple_mutation_df)\n",
    "\n",
    "# Plot a graph\n",
    "plt.figure(figsize=(10, 6))  # Set size\n",
    "bars = plt.bar(DRVdataset_multiple_counts.index, DRVdataset_multiple_counts.values, color='#4292c6')\n",
    "\n",
    "# Add annotations\n",
    "for bar in bars:\n",
    "     yval = bar.get_height()\n",
    "     plt.text(bar.get_x() + bar.get_width()/2, yval, int(yval), va='bottom', ha='center')\n",
    "\n",
    "plt.xlabel(\"Number of Multiple Mutations\")\n",
    "plt.ylabel(\"Frequency\")\n",
    "plt.title(\"Distribution of Multiple Mutation Number in DRVdataset\")\n",
    "\n",
    "# save\n",
    "save_dir = Path(\"C:/Users/64242/Desktop/projectprotein/DRV_PI_DATA\")\n",
    "if not os.path.exists(save_dir):\n",
    "     os.makedirs(save_dir)\n",
    "plt.savefig(os.path.join(save_dir, 'Distribution of Multiple Mutation Number in DRVdataset.png'))\n",
    "plt.show()"
   ]
  },
  {
   "cell_type": "markdown",
   "metadata": {},
   "source": [
    "Initial total data 2395, 1115 after removing na, there are a total of 1107 multiple mutations in the DRVdataset_multiple dataset.\n",
    "Next split the dataset and calculate the number of 2 mutations."
   ]
  },
  {
   "cell_type": "code",
   "execution_count": 85,
   "metadata": {},
   "outputs": [
    {
     "name": "stdout",
     "output_type": "stream",
     "text": [
      "      DRV   CompMutList  Mutation_Count\n",
      "91    0.6    R57G, L63P               2\n",
      "252   0.4    L19I, I93L               2\n",
      "306   1.4    E35D, L63P               2\n",
      "307   0.4    R57K, V77I               2\n",
      "435   1.2    L63P, I72T               2\n",
      "486   0.8    V77I, I93L               2\n",
      "524   0.6    L63P, I64L               2\n",
      "779   1.0    R57G, K70R               2\n",
      "846   0.3    T12A, I64V               2\n",
      "992   0.4    M36I, N37D               2\n",
      "1100  0.8    L10V, R41K               2\n",
      "1208  0.6  R41RK, H69HY               2\n",
      "1285  1.2  L63PS, V77VI               2\n",
      "1304  0.7    R57G, V77I               2\n",
      "1376  0.5    L63T, V77I               2\n",
      "1395  0.6   L19LI, N37S               2\n",
      "1437  0.7    E35D, L63P               2\n",
      "1748  0.6    I13V, I64V               2\n",
      "1786  0.7    L63P, I64L               2\n",
      "1848  0.5    I13V, I64V               2\n",
      "1864  0.7  N37NS, R41RK               2\n",
      "1904  0.9    E35D, L63P               2\n",
      "2129  0.5  I15IV, I64IV               2\n",
      "2146  0.5   I54IL, V77I               2\n",
      "2166  0.4    R57K, L63Q               2\n",
      "2289  1.6    R57G, L63Q               2\n",
      "2376  0.9    L63P, K70R               2\n"
     ]
    }
   ],
   "source": [
    "DRVdataset_2_multiple = DRVdataset_na[DRVdataset_na['Mutation_Count'] == 2]\n",
    "print(DRVdataset_2_multiple)"
   ]
  },
  {
   "cell_type": "markdown",
   "metadata": {},
   "source": [
    "transfer the format to rosseta\n",
    "This file is the mutation file input for Rosetta ddG, column1 is the wt, column 2 is chain+residue, column 3 is the residue that will be mutated; columns 4, 5 and 6 are the same but for chain B (because is a homodimer)\n",
    "T A12 K T B12 K\n",
    "I A13 V I B13 V\n",
    "M A36 I M B36 I\n",
    "V A77 I V B77 I"
   ]
  },
  {
   "cell_type": "markdown",
   "metadata": {},
   "source": [
    "here are some weird data， such as R41RK, H69HY, I delete it. emmm， why we need delete mixture\n",
    "two and more amino acid codes indicates a mixture\n",
    "\n",
    "so if in the CompMutList the letter larger than 3, will be clean"
   ]
  },
  {
   "cell_type": "code",
   "execution_count": 86,
   "metadata": {},
   "outputs": [
    {
     "name": "stdout",
     "output_type": "stream",
     "text": [
      "      DRV CompMutList  Mutation_Count\n",
      "91    0.6  R57G, L63P               2\n",
      "252   0.4  L19I, I93L               2\n",
      "306   1.4  E35D, L63P               2\n",
      "307   0.4  R57K, V77I               2\n",
      "435   1.2  L63P, I72T               2\n",
      "486   0.8  V77I, I93L               2\n",
      "524   0.6  L63P, I64L               2\n",
      "779   1.0  R57G, K70R               2\n",
      "846   0.3  T12A, I64V               2\n",
      "992   0.4  M36I, N37D               2\n",
      "1100  0.8  L10V, R41K               2\n",
      "1304  0.7  R57G, V77I               2\n",
      "1376  0.5  L63T, V77I               2\n",
      "1437  0.7  E35D, L63P               2\n",
      "1748  0.6  I13V, I64V               2\n",
      "1786  0.7  L63P, I64L               2\n",
      "1848  0.5  I13V, I64V               2\n",
      "1904  0.9  E35D, L63P               2\n",
      "2166  0.4  R57K, L63Q               2\n",
      "2289  1.6  R57G, L63Q               2\n",
      "2376  0.9  L63P, K70R               2\n"
     ]
    },
    {
     "name": "stderr",
     "output_type": "stream",
     "text": [
      "C:\\Users\\64242\\AppData\\Local\\Temp/ipykernel_19236/959537225.py:5: SettingWithCopyWarning: \n",
      "A value is trying to be set on a copy of a slice from a DataFrame.\n",
      "Try using .loc[row_indexer,col_indexer] = value instead\n",
      "\n",
      "See the caveats in the documentation: https://pandas.pydata.org/pandas-docs/stable/user_guide/indexing.html#returning-a-view-versus-a-copy\n",
      "  DRVdataset_2_multiple['ValidMutation'] = DRVdataset_2_multiple['CompMutList'].apply(count_alphabets)\n"
     ]
    }
   ],
   "source": [
    "def count_alphabets(s):\n",
    "    mutations = s.split(', ')\n",
    "    return all(len(mut) - len([ch for ch in mut if ch.isdigit()]) <= 2 for mut in mutations)\n",
    "#calculates the number of alphabetic characters in the mutation string by subtracting the number of digit characters from the total length of the mutation string.\n",
    "DRVdataset_2_multiple['ValidMutation'] = DRVdataset_2_multiple['CompMutList'].apply(count_alphabets)\n",
    "DRVdataset_2_multiple_valid = DRVdataset_2_multiple[DRVdataset_2_multiple['ValidMutation']]\n",
    "# Dropping the 'ValidMutation'\n",
    "DRVdataset_2_multiple_valid = DRVdataset_2_multiple_valid.drop(columns=['ValidMutation'])\n",
    "print(DRVdataset_2_multiple_valid)\n"
   ]
  },
  {
   "cell_type": "markdown",
   "metadata": {},
   "source": [
    "transform DRVdataset_2_multiple_valid to rosseta format，keep the number and alphabets，devide to 2 chains， and add the A on left chain, B on right chain."
   ]
  },
  {
   "cell_type": "code",
   "execution_count": 87,
   "metadata": {},
   "outputs": [
    {
     "name": "stdout",
     "output_type": "stream",
     "text": [
      "      DRV CompMutList  Mutation_Count                   Rosetta_format\n",
      "91    0.6  R57G, L63P               2  R A57 G R B57 G L A63 P L B63 P\n",
      "252   0.4  L19I, I93L               2  L A19 I L B19 I I A93 L I B93 L\n",
      "306   1.4  E35D, L63P               2  E A35 D E B35 D L A63 P L B63 P\n",
      "307   0.4  R57K, V77I               2  R A57 K R B57 K V A77 I V B77 I\n",
      "435   1.2  L63P, I72T               2  L A63 P L B63 P I A72 T I B72 T\n",
      "486   0.8  V77I, I93L               2  V A77 I V B77 I I A93 L I B93 L\n",
      "524   0.6  L63P, I64L               2  L A63 P L B63 P I A64 L I B64 L\n",
      "779   1.0  R57G, K70R               2  R A57 G R B57 G K A70 R K B70 R\n",
      "846   0.3  T12A, I64V               2  T A12 A T B12 A I A64 V I B64 V\n",
      "992   0.4  M36I, N37D               2  M A36 I M B36 I N A37 D N B37 D\n",
      "1100  0.8  L10V, R41K               2  L A10 V L B10 V R A41 K R B41 K\n",
      "1304  0.7  R57G, V77I               2  R A57 G R B57 G V A77 I V B77 I\n",
      "1376  0.5  L63T, V77I               2  L A63 T L B63 T V A77 I V B77 I\n",
      "1437  0.7  E35D, L63P               2  E A35 D E B35 D L A63 P L B63 P\n",
      "1748  0.6  I13V, I64V               2  I A13 V I B13 V I A64 V I B64 V\n",
      "1786  0.7  L63P, I64L               2  L A63 P L B63 P I A64 L I B64 L\n",
      "1848  0.5  I13V, I64V               2  I A13 V I B13 V I A64 V I B64 V\n",
      "1904  0.9  E35D, L63P               2  E A35 D E B35 D L A63 P L B63 P\n",
      "2166  0.4  R57K, L63Q               2  R A57 K R B57 K L A63 Q L B63 Q\n",
      "2289  1.6  R57G, L63Q               2  R A57 G R B57 G L A63 Q L B63 Q\n",
      "2376  0.9  L63P, K70R               2  L A63 P L B63 P K A70 R K B70 R\n"
     ]
    }
   ],
   "source": [
    "def reformat_to_rosetta(row):\n",
    "    mutations = row['CompMutList'].split(', ')\n",
    "    formatted_mutations = []\n",
    "    \n",
    "    for mutation in mutations:\n",
    "        if len(mutation) >= 3:\n",
    "            WT = mutation[0]#1st\n",
    "            ResNum = mutation[1:-1]\n",
    "            MutRes = mutation[-1]#last one\n",
    "            formatted_mutations.append(f\"{WT} A{ResNum} {MutRes} {WT} B{ResNum} {MutRes}\")\n",
    "\n",
    "    return ' '.join(formatted_mutations)\n",
    "\n",
    "DRVdataset_2_multiple_valid['Rosetta_format'] = DRVdataset_2_multiple_valid.apply(reformat_to_rosetta, axis=1)\n",
    "print(DRVdataset_2_multiple_valid)\n",
    "\n"
   ]
  },
  {
   "cell_type": "code",
   "execution_count": 88,
   "metadata": {},
   "outputs": [
    {
     "name": "stdout",
     "output_type": "stream",
     "text": [
      "Data successfully saved to C:\\Users\\64242\\Desktop\\projectprotein\\DRV_PI_DATA\\DRVdataset_2_multiple_RosettaData.csv\n"
     ]
    }
   ],
   "source": [
    "save_dir = Path(\"C:/Users/64242/Desktop/projectprotein/DRV_PI_DATA\")\n",
    "file_path = save_dir / \"DRVdataset_2_multiple_RosettaData.csv\"\n",
    "DRVdataset_2_multiple_valid.to_csv(file_path, index=False)\n",
    "print(f\"Data successfully saved to {file_path}\")\n"
   ]
  },
  {
   "cell_type": "markdown",
   "metadata": {},
   "source": [
    "well, now I finish the 2 mutations analysis process, and repeat the same process for each subdataset."
   ]
  },
  {
   "cell_type": "code",
   "execution_count": 89,
   "metadata": {},
   "outputs": [
    {
     "name": "stdout",
     "output_type": "stream",
     "text": [
      "Data for mutation count 1 successfully saved.\n",
      "Data for mutation count 2 successfully saved.\n",
      "Data for mutation count 3 successfully saved.\n",
      "Data for mutation count 4 successfully saved.\n",
      "An error occurred: [Errno 13] Permission denied: 'C:/Users/64242/Desktop/projectprotein/DRV_PI_DATA/DRVdataset_5_multiple_RosettaData.csv'\n",
      "Data for mutation count 6 successfully saved.\n",
      "Data for mutation count 7 successfully saved.\n",
      "Data for mutation count 8 successfully saved.\n",
      "Data for mutation count 9 successfully saved.\n",
      "Data for mutation count 10 successfully saved.\n",
      "Data for mutation count 11 successfully saved.\n"
     ]
    },
    {
     "name": "stderr",
     "output_type": "stream",
     "text": [
      "C:\\Users\\64242\\AppData\\Local\\Temp/ipykernel_19236/2810845250.py:23: SettingWithCopyWarning: \n",
      "A value is trying to be set on a copy of a slice from a DataFrame.\n",
      "Try using .loc[row_indexer,col_indexer] = value instead\n",
      "\n",
      "See the caveats in the documentation: https://pandas.pydata.org/pandas-docs/stable/user_guide/indexing.html#returning-a-view-versus-a-copy\n",
      "  dataset_filtered['ValidMutation'] = dataset_filtered['CompMutList'].apply(count_alphabets)\n"
     ]
    },
    {
     "name": "stdout",
     "output_type": "stream",
     "text": [
      "Data for mutation count 12 successfully saved.\n",
      "Data for mutation count 13 successfully saved.\n",
      "Data for mutation count 14 successfully saved.\n",
      "Data for mutation count 15 successfully saved.\n",
      "Data for mutation count 16 successfully saved.\n",
      "Data for mutation count 17 successfully saved.\n",
      "Data for mutation count 18 successfully saved.\n",
      "Data for mutation count 19 successfully saved.\n",
      "Data for mutation count 20 successfully saved.\n",
      "Data for mutation count 21 successfully saved.\n",
      "Data for mutation count 22 successfully saved.\n",
      "Data for mutation count 23 successfully saved.\n",
      "Data for mutation count 24 successfully saved.\n",
      "Data for mutation count 25 successfully saved.\n",
      "An error occurred: Wrong number of items passed 3, placement implies 1\n",
      "An error occurred: Wrong number of items passed 3, placement implies 1\n",
      "An error occurred: Wrong number of items passed 3, placement implies 1\n"
     ]
    }
   ],
   "source": [
    "def count_alphabets(s):\n",
    "    mutations = s.split(', ')\n",
    "    return all(len(mut) - len([ch for ch in mut if ch.isdigit()]) <= 2 for mut in mutations)\n",
    "#calculates the number of alphabetic characters in the mutation string by subtracting the number of digit characters from the total length of the mutation string.\n",
    "\n",
    "def reformat_to_rosetta(row):\n",
    "    mutations = row['CompMutList'].split(', ')\n",
    "    formatted_mutations = []\n",
    "    \n",
    "    \n",
    "    for mutation in mutations:\n",
    "        if len(mutation) >= 3:\n",
    "            WT = mutation[0]  \n",
    "            ResNum = mutation[1:-1]  \n",
    "            MutRes = mutation[-1] \n",
    "            formatted_mutations.append(f\"{WT} A{ResNum} {MutRes}\")\n",
    "            formatted_mutations.append(f\"{WT} B{ResNum} {MutRes}\")\n",
    "            \n",
    "    return ' '.join(formatted_mutations)\n",
    "\n",
    "def process_dataset(mutation_count, dataset):\n",
    "    dataset_filtered = dataset[dataset['Mutation_Count'] == mutation_count]\n",
    "    dataset_filtered['ValidMutation'] = dataset_filtered['CompMutList'].apply(count_alphabets)\n",
    "    dataset_filtered = dataset_filtered[dataset_filtered['ValidMutation']]\n",
    "    # Dropping the 'ValidMutation'\n",
    "    dataset_filtered = dataset_filtered.drop(columns=['ValidMutation'])\n",
    "    #devide the dataset to subdataset by the different Mutation_Count\n",
    "    #using unique to prove return right value and skip empty \n",
    "    try:\n",
    "        dataset_filtered['Rosetta_format'] = dataset_filtered.apply(reformat_to_rosetta, axis=1)\n",
    "        # Ensure 'Rosetta_format' is created and populated correctly\n",
    "        if 'Rosetta_format' not in dataset_filtered.columns or dataset_filtered['Rosetta_format'].isnull().any():\n",
    "            raise ValueError(\"Failed to create 'Rosetta_format' column correctly.\")\n",
    "            \n",
    "        dataset_filtered_valid = dataset_filtered[dataset_filtered['Rosetta_format'].str.len() > 0]  # Filtering valid entries\n",
    "        dataset_filtered_valid.to_csv(f\"C:/Users/64242/Desktop/projectprotein/DRV_PI_DATA/DRVdataset_{mutation_count}_multiple_RosettaData.csv\", index=False)\n",
    "        print(f\"Data for mutation count {mutation_count} successfully saved.\")\n",
    "        \n",
    "    except Exception as e:\n",
    "        print(f\"An error occurred: {e}\")\n",
    "\n",
    "unique_mutation_counts = DRVdataset_na['Mutation_Count'].unique()\n",
    "\n",
    "for mutation_count in sorted(unique_mutation_counts):\n",
    "    process_dataset(mutation_count, DRVdataset_na)\n"
   ]
  },
  {
   "cell_type": "markdown",
   "metadata": {},
   "source": [
    "In the Rosetta ddG pipeline wikipedia it says that the pipeline should also accept the \"correct\" mutation file, so we can try to build that one. In the mutation file documentation (here) they show how to write that file for multiple mutation, here is the example they give:\n",
    "total 3 #this is the total number of mutations being made.\n",
    "2 # the number of mutations made\n",
    "G 1 A # the wild-type aa, the residue number, and the mutant aa\n",
    "W 6 Y # the wild-type aa, the residue number, and the mutant aa\n",
    "1 #the number of mutations\n",
    "F 10 Y # the wild-type aa, the residue number, and the mutant aa\n",
    "In this case, it seems that G to A, and W to Y are done at the same time"
   ]
  }
 ],
 "metadata": {
  "kernelspec": {
   "display_name": "base",
   "language": "python",
   "name": "python3"
  },
  "language_info": {
   "codemirror_mode": {
    "name": "ipython",
    "version": 3
   },
   "file_extension": ".py",
   "mimetype": "text/x-python",
   "name": "python",
   "nbconvert_exporter": "python",
   "pygments_lexer": "ipython3",
   "version": "3.9.7"
  }
 },
 "nbformat": 4,
 "nbformat_minor": 2
}
